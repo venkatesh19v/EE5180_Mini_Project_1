{
  "cells": [
    {
      "cell_type": "markdown",
      "metadata": {
        "id": "MbZ6RBNuCmmM"
      },
      "source": [
        "## Instructions\n",
        "\n",
        "\n",
        "If you find yourself unsure about something; then please make an appropriate assumption and explain/document your rationale.\n",
        "\n",
        "\n",
        "\n"
      ]
    },
    {
      "cell_type": "markdown",
      "metadata": {
        "id": "TXuSZjBEGx11"
      },
      "source": [
        "## Linear Regression\n",
        "\n",
        "Please download the song_data.csv for Linear Regression and Logistic Regression assignments.\n",
        "\n",
        "The audio features include attributes about the music track itself, such as duration, key, year. The metadata uses more abstract features, such as danceability, energy, or song hotttnesss.\n",
        "\n",
        "---\n",
        "\n",
        "\n",
        "Train a regression model (of your choice) to identify the energy of the song.\n",
        "1.   Briefly explain why you have chosen this model.  \n",
        "2.   Note down your cost."
      ]
    },
    {
      "cell_type": "code",
      "execution_count": null,
      "metadata": {
        "id": "kUEumgP5LTAX"
      },
      "outputs": [],
      "source": [
        "# Some libraries\n",
        "import pandas as pd\n",
        "from sklearn.model_selection import train_test_split\n",
        "from sklearn.linear_model import LinearRegression,LogisticRegression\n",
        "from sklearn.metrics import accuracy_score\n",
        "import numpy as np"
      ]
    },
    {
      "cell_type": "code",
      "execution_count": null,
      "metadata": {
        "id": "FP96KsopGxPK"
      },
      "outputs": [],
      "source": [
        "#Load data\n",
        "\n",
        "\n",
        "# Data Pre-Processing\n",
        "\n",
        "# Drop non-numeric datapoints\n",
        "\n",
        "# Define your X  and y\n",
        "\n",
        "#Divide the data into testing dataset and training dataset\n",
        "\n",
        "#Training\n",
        "\n",
        "# Testing\n"
      ]
    },
    {
      "cell_type": "markdown",
      "metadata": {
        "id": "t4xnx1AaVnCr"
      },
      "source": [
        "## Logistic Regression\n",
        "\n",
        "Using the same data as above and train the model to classify it as whether it is danceable or not.\n",
        "\n",
        "We define a song as danceable when the dancability score of the song is $\\geq0.5$ and not not dancable when the dancablility score $<0.5$."
      ]
    },
    {
      "cell_type": "code",
      "execution_count": null,
      "metadata": {
        "id": "R7LI2oBWVpYQ"
      },
      "outputs": [],
      "source": [
        "\n",
        "# Define your X and y\n",
        "\n",
        "\n",
        "#Divide the data into testing dataset and training dataset\n",
        "\n",
        "\n",
        "#Training\n",
        "\n",
        "\n",
        "# Testing\n"
      ]
    },
    {
      "cell_type": "markdown",
      "metadata": {
        "id": "ACVgTXbxLPXj"
      },
      "source": [
        "## Perceptron"
      ]
    },
    {
      "cell_type": "code",
      "execution_count": null,
      "metadata": {
        "id": "RT7Ybdm0LTDQ"
      },
      "outputs": [],
      "source": [
        "Q. Consider the following code to generate two datasets: one linear (X1, y1) and another non-linear (X2, y2). You can change parameters for your convenience.\n",
        "\n",
        "from sklearn import datasets\n",
        "X1, y1 = datasets.make_classification(n_features=2, n_classes=2, n_samples=200, n_redundant=0, n_clusters_per_class=1)\n",
        "X2, y2 = datasets.make_circles(n_samples=200, noise=0.03, factor=0.7)\n",
        "\n",
        "(a) Implement the Perceptron algorithm from scratch. Verify if the algorithm takes atmost (RB)^2 iterations. R and B has usual meanings (Refer Theorem 9.1 in UML book)\n",
        "    [Use (X1, y1) dataset]\n",
        "\n",
        "(b) Now use the (X2, y2) dataset and give an idea to solve the problem as a Binary classification problem using Perceptron.\n",
        "\t[Web Resource: https://towardsdatascience.com/perceptron-explanation-implementation-and-a-visual-example-3c8e76b4e2d1]"
      ]
    },
    {
      "cell_type": "code",
      "execution_count": null,
      "metadata": {
        "id": "i-WEbTLSePu0"
      },
      "outputs": [],
      "source": [
        "Q. Implement  3×1 MUX  for a boolean function with three variables (Use Pytorch)\n",
        "                    (i) Make simple AND, OR, NOT logic gates using one layer perceptron combine them to make XOR. (XOR: F(A,B,C) = A'B + AB'+ B'C + BC').\n",
        "                    (ii) Make a MLP for XOR gate of 3 variables and plot the decision boundary.\n",
        "                    (iii) Comment on the complexity of both.\n",
        "\n",
        "Useful Web Resources: https://d1b10bmlvqabco.cloudfront.net/attach/jl2b00mpen3au/jl2b0jnvzgn3hf/jn9f4p17wi31/CMSC422Perceptrons.pdf]"
      ]
    }
  ],
  "metadata": {
    "colab": {
      "provenance": []
    },
    "kernelspec": {
      "display_name": "Python 3",
      "name": "python3"
    },
    "language_info": {
      "name": "python"
    }
  },
  "nbformat": 4,
  "nbformat_minor": 0
}